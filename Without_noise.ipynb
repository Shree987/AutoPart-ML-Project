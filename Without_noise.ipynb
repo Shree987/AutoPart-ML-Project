{
  "nbformat": 4,
  "nbformat_minor": 0,
  "metadata": {
    "colab": {
      "name": "Without-noise.ipynb",
      "provenance": []
    },
    "kernelspec": {
      "name": "python3",
      "display_name": "Python 3"
    },
    "language_info": {
      "name": "python"
    }
  },
  "cells": [
    {
      "cell_type": "markdown",
      "metadata": {
        "id": "DlQ5uY10632M"
      },
      "source": [
        "# Generate the adjacency matrix"
      ]
    },
    {
      "cell_type": "code",
      "metadata": {
        "colab": {
          "base_uri": "https://localhost:8080/"
        },
        "id": "ClapDgpVbVlY",
        "outputId": "d64164f8-5483-4f52-9307-29babc8d6a0b"
      },
      "source": [
        "import numpy as np\n",
        "import random\n",
        "random.seed(50)\n",
        "N = 2000\n",
        "a = np.zeros((N,N))\n",
        "grps=[400, 300,200,500, 150, 450]\n",
        "b = np.zeros((N))\n",
        "curr_index=0\n",
        "for j, grp in enumerate(grps):\n",
        "  for i in range(grp):\n",
        "    b[curr_index] = j\n",
        "    curr_index = curr_index + 1\n",
        "\n",
        "b"
      ],
      "execution_count": null,
      "outputs": [
        {
          "output_type": "execute_result",
          "data": {
            "text/plain": [
              "array([0., 0., 0., ..., 5., 5., 5.])"
            ]
          },
          "metadata": {
            "tags": []
          },
          "execution_count": 10
        }
      ]
    },
    {
      "cell_type": "code",
      "metadata": {
        "id": "nySJlMTsbiQD"
      },
      "source": [
        "for i in range(N):\n",
        "  for j in range(N):\n",
        "    if(b[i]==b[j]):\n",
        "      a[i][j]=1"
      ],
      "execution_count": null,
      "outputs": []
    },
    {
      "cell_type": "code",
      "metadata": {
        "colab": {
          "base_uri": "https://localhost:8080/"
        },
        "id": "tW-YVSOVP3py",
        "outputId": "a0b0f6d2-7028-460c-d415-621411411e67"
      },
      "source": [
        "a"
      ],
      "execution_count": null,
      "outputs": [
        {
          "output_type": "execute_result",
          "data": {
            "text/plain": [
              "array([[0., 1., 0., ..., 1., 1., 0.],\n",
              "       [0., 0., 0., ..., 0., 0., 0.],\n",
              "       [0., 0., 1., ..., 0., 0., 0.],\n",
              "       ...,\n",
              "       [0., 1., 0., ..., 1., 0., 0.],\n",
              "       [0., 0., 0., ..., 0., 0., 0.],\n",
              "       [0., 1., 1., ..., 0., 0., 0.]])"
            ]
          },
          "metadata": {
            "tags": []
          },
          "execution_count": 12
        }
      ]
    },
    {
      "cell_type": "markdown",
      "metadata": {
        "id": "R-h7vxf96_3Q"
      },
      "source": [
        "# Shuffle the adjacency matrix"
      ]
    },
    {
      "cell_type": "code",
      "metadata": {
        "id": "1K7xTDkPgGaw"
      },
      "source": [
        "c=list(range(N))\n",
        "random.shuffle(c)\n",
        "\n",
        "d = []\n",
        "for i in range(N):\n",
        "  d += [a[c[i]]]\n",
        "\n",
        "d= np.array(d)"
      ],
      "execution_count": null,
      "outputs": []
    },
    {
      "cell_type": "markdown",
      "metadata": {
        "id": "NFo-ooKn7FiF"
      },
      "source": [
        "# Save the matrix in an excel file"
      ]
    },
    {
      "cell_type": "code",
      "metadata": {
        "id": "DRnd1RoP8mup"
      },
      "source": [
        "import pandas as pd\n",
        "\n",
        "## convert your array into a dataframe\n",
        "df = pd.DataFrame(d)\n",
        "\n",
        "## save to xlsx file\n",
        "\n",
        "filepath = 'without-noise.xlsx'\n",
        "\n",
        "df.to_excel(filepath, header=False, index=False)"
      ],
      "execution_count": null,
      "outputs": []
    }
  ]
}