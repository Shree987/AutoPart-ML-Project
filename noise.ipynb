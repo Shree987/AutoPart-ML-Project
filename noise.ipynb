{
  "nbformat": 4,
  "nbformat_minor": 0,
  "metadata": {
    "colab": {
      "name": "noise.ipynb",
      "provenance": []
    },
    "kernelspec": {
      "name": "python3",
      "display_name": "Python 3"
    },
    "language_info": {
      "name": "python"
    }
  },
  "cells": [
    {
      "cell_type": "markdown",
      "metadata": {
        "id": "DlQ5uY10632M"
      },
      "source": [
        "# Generate the adjacency matrix"
      ]
    },
    {
      "cell_type": "code",
      "metadata": {
        "id": "ClapDgpVbVlY"
      },
      "source": [
        "import numpy as np\n",
        "import random\n",
        "random.seed(50)\n",
        "N = 2000\n",
        "a = np.zeros((N,N))\n",
        "\n",
        "for i in range(N):\n",
        "  for j in range(N):\n",
        "    if np.random.randint(0, 10) < 2:\n",
        "      a[i][j] = 1"
      ],
      "execution_count": 1,
      "outputs": []
    },
    {
      "cell_type": "code",
      "metadata": {
        "colab": {
          "base_uri": "https://localhost:8080/"
        },
        "id": "tW-YVSOVP3py",
        "outputId": "7bef6a1a-690a-499c-a36c-7a60821caede"
      },
      "source": [
        "a"
      ],
      "execution_count": 2,
      "outputs": [
        {
          "output_type": "execute_result",
          "data": {
            "text/plain": [
              "array([[1., 0., 0., ..., 0., 1., 0.],\n",
              "       [0., 0., 0., ..., 0., 0., 0.],\n",
              "       [1., 0., 0., ..., 1., 0., 0.],\n",
              "       ...,\n",
              "       [0., 0., 0., ..., 0., 1., 0.],\n",
              "       [0., 0., 1., ..., 0., 0., 1.],\n",
              "       [0., 0., 0., ..., 0., 0., 0.]])"
            ]
          },
          "metadata": {
            "tags": []
          },
          "execution_count": 2
        }
      ]
    },
    {
      "cell_type": "markdown",
      "metadata": {
        "id": "R-h7vxf96_3Q"
      },
      "source": [
        "# Shuffle the adjacency matrix"
      ]
    },
    {
      "cell_type": "code",
      "metadata": {
        "id": "1K7xTDkPgGaw"
      },
      "source": [
        "c=list(range(N))\n",
        "random.shuffle(c)\n",
        "\n",
        "d = []\n",
        "for i in range(N):\n",
        "  d += [a[c[i]]]\n",
        "\n",
        "d= np.array(d)"
      ],
      "execution_count": 3,
      "outputs": []
    },
    {
      "cell_type": "markdown",
      "metadata": {
        "id": "NFo-ooKn7FiF"
      },
      "source": [
        "# Save the matrix in an excel file"
      ]
    },
    {
      "cell_type": "code",
      "metadata": {
        "id": "DRnd1RoP8mup"
      },
      "source": [
        "import pandas as pd\n",
        "\n",
        "## convert your array into a dataframe\n",
        "df = pd.DataFrame(d)\n",
        "\n",
        "## save to xlsx file\n",
        "\n",
        "filepath = 'without-noise.xlsx'\n",
        "\n",
        "df.to_excel(filepath, header=False, index=False)"
      ],
      "execution_count": 4,
      "outputs": []
    }
  ]
}