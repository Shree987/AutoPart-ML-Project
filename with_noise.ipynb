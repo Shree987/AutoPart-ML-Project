{
  "nbformat": 4,
  "nbformat_minor": 0,
  "metadata": {
    "colab": {
      "name": "with-noise.ipynb",
      "provenance": []
    },
    "kernelspec": {
      "name": "python3",
      "display_name": "Python 3"
    },
    "language_info": {
      "name": "python"
    }
  },
  "cells": [
    {
      "cell_type": "markdown",
      "metadata": {
        "id": "ma78Lh2k7vfa"
      },
      "source": [
        "# Generate the adjacency matrix"
      ]
    },
    {
      "cell_type": "code",
      "metadata": {
        "colab": {
          "base_uri": "https://localhost:8080/"
        },
        "id": "fijlwV8p8Is2",
        "outputId": "043f0c7c-8f98-4eaf-c846-4db2707b2589"
      },
      "source": [
        "import numpy as np\n",
        "import random\n",
        "random.seed(50)\n",
        "N = 2000\n",
        "a = np.zeros((N,N))\n",
        "grps=[400, 300,200,500, 150, 450]\n",
        "b = np.zeros((N))\n",
        "curr_index=0\n",
        "for j, grp in enumerate(grps):\n",
        "  for i in range(grp):\n",
        "    b[curr_index] = j\n",
        "    curr_index = curr_index + 1\n",
        "\n",
        "b"
      ],
      "execution_count": null,
      "outputs": [
        {
          "output_type": "execute_result",
          "data": {
            "text/plain": [
              "array([0., 0., 0., ..., 5., 5., 5.])"
            ]
          },
          "metadata": {
            "tags": []
          },
          "execution_count": 6
        }
      ]
    },
    {
      "cell_type": "code",
      "metadata": {
        "colab": {
          "base_uri": "https://localhost:8080/"
        },
        "id": "IMH40JsE9X4y",
        "outputId": "e31798d4-e3a3-4482-d51e-f27688a91a92"
      },
      "source": [
        "count1=0\n",
        "count2=0\n",
        "for i in range(N):\n",
        "  for j in range(N):\n",
        "    if(b[i]==b[j]):\n",
        "      a[i][j]=1\n",
        "    elif random.random()<0.02:\n",
        "      a[i][j]=1\n",
        "      count1=count1+1\n",
        "    else:\n",
        "      count2=count2+1\n",
        "print(count1, count2)"
      ],
      "execution_count": null,
      "outputs": [
        {
          "output_type": "stream",
          "text": [
            "64856 3170144\n"
          ],
          "name": "stdout"
        }
      ]
    },
    {
      "cell_type": "markdown",
      "metadata": {
        "id": "7v0KQWP072iG"
      },
      "source": [
        "# Shuffle the adjacency matrix"
      ]
    },
    {
      "cell_type": "code",
      "metadata": {
        "id": "ZFhpcxgN9aSF"
      },
      "source": [
        "c=list(range(N))\n",
        "random.shuffle(c)\n",
        "\n",
        "d = []\n",
        "for i in range(N):\n",
        "  d += [a[c[i]]]\n",
        "\n",
        "d= np.array(d)"
      ],
      "execution_count": null,
      "outputs": []
    },
    {
      "cell_type": "markdown",
      "metadata": {
        "id": "YHdHL1XP769e"
      },
      "source": [
        "# Save the matrix in an excel file"
      ]
    },
    {
      "cell_type": "code",
      "metadata": {
        "id": "2RhcBlfc9e4y"
      },
      "source": [
        "import pandas as pd\n",
        "\n",
        "## convert your array into a dataframe\n",
        "df = pd.DataFrame(d)\n",
        "\n",
        "## save to xlsx file\n",
        "\n",
        "filepath = 'with-noise.xlsx'\n",
        "\n",
        "df.to_excel(filepath,header=False, index=False)"
      ],
      "execution_count": null,
      "outputs": []
    }
  ]
}